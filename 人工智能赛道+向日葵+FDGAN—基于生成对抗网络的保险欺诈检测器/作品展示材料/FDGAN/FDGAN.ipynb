{
 "cells": [
  {
   "cell_type": "markdown",
   "id": "a0974db6",
   "metadata": {
    "heading_collapsed": true
   },
   "source": [
    "# 数据预处理"
   ]
  },
  {
   "cell_type": "code",
   "execution_count": 1,
   "id": "41fbc864",
   "metadata": {
    "hidden": true
   },
   "outputs": [],
   "source": [
    "import pandas as pd\n",
    "import numpy as np\n",
    "from collections import Counter\n",
    "from sklearn.preprocessing import LabelEncoder"
   ]
  },
  {
   "cell_type": "code",
   "execution_count": 2,
   "id": "f38cb68b",
   "metadata": {
    "hidden": true,
    "scrolled": true
   },
   "outputs": [
    {
     "data": {
      "text/plain": [
       "(1000, 40)"
      ]
     },
     "execution_count": 2,
     "metadata": {},
     "output_type": "execute_result"
    }
   ],
   "source": [
    "data = pd.read_csv('../Data/insurance_claims.csv')\n",
    "data.shape"
   ]
  },
  {
   "cell_type": "code",
   "execution_count": 3,
   "id": "96194412",
   "metadata": {
    "hidden": true,
    "scrolled": true
   },
   "outputs": [
    {
     "data": {
      "text/html": [
       "<div>\n",
       "<style scoped>\n",
       "    .dataframe tbody tr th:only-of-type {\n",
       "        vertical-align: middle;\n",
       "    }\n",
       "\n",
       "    .dataframe tbody tr th {\n",
       "        vertical-align: top;\n",
       "    }\n",
       "\n",
       "    .dataframe thead th {\n",
       "        text-align: right;\n",
       "    }\n",
       "</style>\n",
       "<table border=\"1\" class=\"dataframe\">\n",
       "  <thead>\n",
       "    <tr style=\"text-align: right;\">\n",
       "      <th></th>\n",
       "      <th>months_as_customer</th>\n",
       "      <th>age</th>\n",
       "      <th>policy_number</th>\n",
       "      <th>policy_bind_date</th>\n",
       "      <th>policy_state</th>\n",
       "      <th>policy_csl</th>\n",
       "      <th>policy_deductable</th>\n",
       "      <th>policy_annual_premium</th>\n",
       "      <th>umbrella_limit</th>\n",
       "      <th>insured_zip</th>\n",
       "      <th>...</th>\n",
       "      <th>police_report_available</th>\n",
       "      <th>total_claim_amount</th>\n",
       "      <th>injury_claim</th>\n",
       "      <th>property_claim</th>\n",
       "      <th>vehicle_claim</th>\n",
       "      <th>auto_make</th>\n",
       "      <th>auto_model</th>\n",
       "      <th>auto_year</th>\n",
       "      <th>fraud_reported</th>\n",
       "      <th>_c39</th>\n",
       "    </tr>\n",
       "  </thead>\n",
       "  <tbody>\n",
       "    <tr>\n",
       "      <th>0</th>\n",
       "      <td>328</td>\n",
       "      <td>48</td>\n",
       "      <td>521585</td>\n",
       "      <td>2014-10-17</td>\n",
       "      <td>OH</td>\n",
       "      <td>250/500</td>\n",
       "      <td>1000</td>\n",
       "      <td>1406.91</td>\n",
       "      <td>0</td>\n",
       "      <td>466132</td>\n",
       "      <td>...</td>\n",
       "      <td>YES</td>\n",
       "      <td>71610</td>\n",
       "      <td>6510</td>\n",
       "      <td>13020</td>\n",
       "      <td>52080</td>\n",
       "      <td>Saab</td>\n",
       "      <td>92x</td>\n",
       "      <td>2004</td>\n",
       "      <td>Y</td>\n",
       "      <td>NaN</td>\n",
       "    </tr>\n",
       "    <tr>\n",
       "      <th>1</th>\n",
       "      <td>228</td>\n",
       "      <td>42</td>\n",
       "      <td>342868</td>\n",
       "      <td>2006-06-27</td>\n",
       "      <td>IN</td>\n",
       "      <td>250/500</td>\n",
       "      <td>2000</td>\n",
       "      <td>1197.22</td>\n",
       "      <td>5000000</td>\n",
       "      <td>468176</td>\n",
       "      <td>...</td>\n",
       "      <td>?</td>\n",
       "      <td>5070</td>\n",
       "      <td>780</td>\n",
       "      <td>780</td>\n",
       "      <td>3510</td>\n",
       "      <td>Mercedes</td>\n",
       "      <td>E400</td>\n",
       "      <td>2007</td>\n",
       "      <td>Y</td>\n",
       "      <td>NaN</td>\n",
       "    </tr>\n",
       "  </tbody>\n",
       "</table>\n",
       "<p>2 rows × 40 columns</p>\n",
       "</div>"
      ],
      "text/plain": [
       "   months_as_customer  age  policy_number policy_bind_date policy_state  \\\n",
       "0                 328   48         521585       2014-10-17           OH   \n",
       "1                 228   42         342868       2006-06-27           IN   \n",
       "\n",
       "  policy_csl  policy_deductable  policy_annual_premium  umbrella_limit  \\\n",
       "0    250/500               1000                1406.91               0   \n",
       "1    250/500               2000                1197.22         5000000   \n",
       "\n",
       "   insured_zip  ... police_report_available total_claim_amount injury_claim  \\\n",
       "0       466132  ...                     YES              71610         6510   \n",
       "1       468176  ...                       ?               5070          780   \n",
       "\n",
       "  property_claim vehicle_claim  auto_make  auto_model auto_year  \\\n",
       "0          13020         52080       Saab         92x      2004   \n",
       "1            780          3510   Mercedes        E400      2007   \n",
       "\n",
       "  fraud_reported _c39  \n",
       "0              Y  NaN  \n",
       "1              Y  NaN  \n",
       "\n",
       "[2 rows x 40 columns]"
      ]
     },
     "execution_count": 3,
     "metadata": {},
     "output_type": "execute_result"
    }
   ],
   "source": [
    "data[:2]"
   ]
  },
  {
   "cell_type": "code",
   "execution_count": null,
   "id": "655070d7",
   "metadata": {
    "hidden": true
   },
   "outputs": [],
   "source": []
  },
  {
   "cell_type": "markdown",
   "id": "1223bef3",
   "metadata": {
    "heading_collapsed": true,
    "hidden": true
   },
   "source": [
    "## 删除特征"
   ]
  },
  {
   "cell_type": "code",
   "execution_count": 4,
   "id": "04f93687",
   "metadata": {
    "code_folding": [
     0
    ],
    "hidden": true
   },
   "outputs": [],
   "source": [
    "def missing_values_table(df):\n",
    "    '''构建计算缺失值数量的函数'''\n",
    "    # 每列总缺失值数量\n",
    "    mis_val = df.isnull().sum()\n",
    "    \n",
    "    # 缺失值的百分比\n",
    "    mis_val_percent = 100*df.isnull().sum() / len(df)\n",
    "    \n",
    "    # 将结果级联成一个表格\n",
    "    mis_val_table = pd.concat([mis_val,mis_val_percent],axis=1)\n",
    "    \n",
    "    # 给表格的列重命名\n",
    "    mis_val_table = mis_val_table.rename(columns = {0 : \"缺失值数量\", 1 : \"缺失值占比\"})\n",
    "    \n",
    "    # 按照缺失值占比降序排序\n",
    "    mis_val_table = mis_val_table[mis_val_table.iloc[:,1] != 0].sort_values(\"缺失值占比\", ascending=False).round(1)\n",
    "    \n",
    "    # 打印一些总结信息\n",
    "    print(\"输入的对象一共有\" + str(df.shape[1]-1) + \"个特征.\\n\"\n",
    "         \"其中一共有\" + str(mis_val_table.shape[0]) + \"个特征具有缺失值.\")\n",
    "    \n",
    "    # 返回缺失值表格  \n",
    "    return mis_val_table"
   ]
  },
  {
   "cell_type": "code",
   "execution_count": 5,
   "id": "d5110d0f",
   "metadata": {
    "hidden": true
   },
   "outputs": [
    {
     "name": "stdout",
     "output_type": "stream",
     "text": [
      "输入的对象一共有39个特征.\n",
      "其中一共有1个特征具有缺失值.\n"
     ]
    },
    {
     "data": {
      "text/html": [
       "<div>\n",
       "<style scoped>\n",
       "    .dataframe tbody tr th:only-of-type {\n",
       "        vertical-align: middle;\n",
       "    }\n",
       "\n",
       "    .dataframe tbody tr th {\n",
       "        vertical-align: top;\n",
       "    }\n",
       "\n",
       "    .dataframe thead th {\n",
       "        text-align: right;\n",
       "    }\n",
       "</style>\n",
       "<table border=\"1\" class=\"dataframe\">\n",
       "  <thead>\n",
       "    <tr style=\"text-align: right;\">\n",
       "      <th></th>\n",
       "      <th>缺失值数量</th>\n",
       "      <th>缺失值占比</th>\n",
       "    </tr>\n",
       "  </thead>\n",
       "  <tbody>\n",
       "    <tr>\n",
       "      <th>_c39</th>\n",
       "      <td>1000</td>\n",
       "      <td>100.0</td>\n",
       "    </tr>\n",
       "  </tbody>\n",
       "</table>\n",
       "</div>"
      ],
      "text/plain": [
       "      缺失值数量  缺失值占比\n",
       "_c39   1000  100.0"
      ]
     },
     "execution_count": 5,
     "metadata": {},
     "output_type": "execute_result"
    }
   ],
   "source": [
    "mis_val_table = missing_values_table(data)\n",
    "mis_val_table"
   ]
  },
  {
   "cell_type": "code",
   "execution_count": 6,
   "id": "ff4dda8b",
   "metadata": {
    "hidden": true
   },
   "outputs": [],
   "source": [
    "# _c39 列全部都是 np.nan,因此需要删除\n",
    "data.drop(columns='_c39',inplace=True)"
   ]
  },
  {
   "cell_type": "code",
   "execution_count": 7,
   "id": "245ffb68",
   "metadata": {
    "hidden": true
   },
   "outputs": [],
   "source": [
    "# 删除：保单编号policy_number，被保人邮编insured_zip, \n",
    "# 事故所在的具体位置incident_location,'policy_bind_date','incident_date'\n",
    "data.drop(columns=['incident_location','policy_bind_date','incident_date',\n",
    "                   'insured_occupation','policy_number','insured_zip'],\n",
    "          inplace=True)"
   ]
  },
  {
   "cell_type": "markdown",
   "id": "b91ce13e",
   "metadata": {
    "heading_collapsed": true,
    "hidden": true
   },
   "source": [
    "## 离散变量编码"
   ]
  },
  {
   "cell_type": "code",
   "execution_count": 8,
   "id": "d6d147b0",
   "metadata": {
    "hidden": true,
    "scrolled": false
   },
   "outputs": [
    {
     "data": {
      "text/plain": [
       "(1000, 33)"
      ]
     },
     "execution_count": 8,
     "metadata": {},
     "output_type": "execute_result"
    }
   ],
   "source": [
    "data.shape"
   ]
  },
  {
   "cell_type": "code",
   "execution_count": 9,
   "id": "17af3cb6",
   "metadata": {
    "hidden": true
   },
   "outputs": [],
   "source": [
    "label_dict = {'fraud_reported':{'Y':1,'N':0}}\n",
    "data = data.replace(label_dict)"
   ]
  },
  {
   "cell_type": "code",
   "execution_count": 10,
   "id": "d8d46d41",
   "metadata": {
    "hidden": true,
    "scrolled": true
   },
   "outputs": [
    {
     "data": {
      "text/plain": [
       "16"
      ]
     },
     "execution_count": 10,
     "metadata": {},
     "output_type": "execute_result"
    }
   ],
   "source": [
    "cal_columns = list(data.select_dtypes(include='object').columns)\n",
    "len(cal_columns)"
   ]
  },
  {
   "cell_type": "code",
   "execution_count": 11,
   "id": "56c33149",
   "metadata": {
    "hidden": true
   },
   "outputs": [],
   "source": [
    "for col in cal_columns:\n",
    "    data[col] = LabelEncoder().fit_transform(data[col])"
   ]
  },
  {
   "cell_type": "code",
   "execution_count": 12,
   "id": "6a1ea6e3",
   "metadata": {
    "hidden": true
   },
   "outputs": [
    {
     "data": {
      "text/plain": [
       "9"
      ]
     },
     "execution_count": 12,
     "metadata": {},
     "output_type": "execute_result"
    }
   ],
   "source": [
    "# 9 个连续性变量应该在过采样后进行标准化\n",
    "continous_columns = ['months_as_customer','age','policy_annual_premium','capital-gains',\n",
    "                     'capital-loss','total_claim_amount','injury_claim','property_claim','vehicle_claim']\n",
    "len(continous_columns)"
   ]
  },
  {
   "cell_type": "code",
   "execution_count": 13,
   "id": "890bdddb",
   "metadata": {
    "hidden": true
   },
   "outputs": [
    {
     "data": {
      "text/plain": [
       "7"
      ]
     },
     "execution_count": 13,
     "metadata": {},
     "output_type": "execute_result"
    }
   ],
   "source": [
    "rest_columns = ['bodily_injuries','policy_deductable','witnesses','number_of_vehicles_involved',\n",
    "                'umbrella_limit','auto_year','incident_hour_of_the_day']\n",
    "len(rest_columns)"
   ]
  },
  {
   "cell_type": "markdown",
   "id": "02a86f8f",
   "metadata": {
    "hidden": true
   },
   "source": [
    "**umbrella_limit 异常值处理及编码**"
   ]
  },
  {
   "cell_type": "code",
   "execution_count": 14,
   "id": "b5b88c0b",
   "metadata": {
    "hidden": true,
    "scrolled": true
   },
   "outputs": [
    {
     "data": {
      "text/plain": [
       "Counter({0: 798,\n",
       "         6000000: 57,\n",
       "         5000000: 46,\n",
       "         4000000: 39,\n",
       "         7000000: 29,\n",
       "         3000000: 12,\n",
       "         8000000: 8,\n",
       "         9000000: 5,\n",
       "         2000000: 3,\n",
       "         10000000: 2,\n",
       "         -1000000: 1})"
      ]
     },
     "execution_count": 14,
     "metadata": {},
     "output_type": "execute_result"
    }
   ],
   "source": [
    "Counter(data['umbrella_limit'])  # 可以看到 -1000000 是异常值，我们将其修改为 1000000"
   ]
  },
  {
   "cell_type": "code",
   "execution_count": 15,
   "id": "1e07f2ab",
   "metadata": {
    "hidden": true
   },
   "outputs": [],
   "source": [
    "data.loc[290,'umbrella_limit']= 1000000"
   ]
  },
  {
   "cell_type": "code",
   "execution_count": 16,
   "id": "dae2b49a",
   "metadata": {
    "hidden": true
   },
   "outputs": [],
   "source": [
    "data['umbrella_limit'] = (data['umbrella_limit']/1000000).astype(int)    # umbrella_limit 是有序变量"
   ]
  },
  {
   "cell_type": "markdown",
   "id": "a33b5b34",
   "metadata": {
    "hidden": true
   },
   "source": [
    "**policy_deductable编码**"
   ]
  },
  {
   "cell_type": "code",
   "execution_count": 17,
   "id": "db12b597",
   "metadata": {
    "hidden": true
   },
   "outputs": [
    {
     "data": {
      "text/plain": [
       "Counter({1000: 351, 500: 342, 2000: 307})"
      ]
     },
     "execution_count": 17,
     "metadata": {},
     "output_type": "execute_result"
    }
   ],
   "source": [
    "Counter(data['policy_deductable'])"
   ]
  },
  {
   "cell_type": "code",
   "execution_count": 18,
   "id": "b228e59d",
   "metadata": {
    "hidden": true
   },
   "outputs": [],
   "source": [
    "mapping_dict = {'policy_deductable':{500:0,1000:1,2000:2}}\n",
    "data = data.replace(mapping_dict)"
   ]
  },
  {
   "cell_type": "code",
   "execution_count": 19,
   "id": "2e807b8c",
   "metadata": {
    "hidden": true,
    "scrolled": false
   },
   "outputs": [
    {
     "data": {
      "text/plain": [
       "Index(['months_as_customer', 'age', 'policy_state', 'policy_csl',\n",
       "       'policy_deductable', 'policy_annual_premium', 'umbrella_limit',\n",
       "       'insured_sex', 'insured_education_level', 'insured_hobbies',\n",
       "       'insured_relationship', 'capital-gains', 'capital-loss',\n",
       "       'incident_type', 'collision_type', 'incident_severity',\n",
       "       'authorities_contacted', 'incident_state', 'incident_city',\n",
       "       'incident_hour_of_the_day', 'number_of_vehicles_involved',\n",
       "       'property_damage', 'bodily_injuries', 'witnesses',\n",
       "       'police_report_available', 'total_claim_amount', 'injury_claim',\n",
       "       'property_claim', 'vehicle_claim', 'auto_make', 'auto_model',\n",
       "       'auto_year', 'fraud_reported'],\n",
       "      dtype='object')"
      ]
     },
     "execution_count": 19,
     "metadata": {},
     "output_type": "execute_result"
    }
   ],
   "source": [
    "data.columns"
   ]
  },
  {
   "cell_type": "code",
   "execution_count": 20,
   "id": "22c02e7a",
   "metadata": {
    "hidden": true
   },
   "outputs": [],
   "source": [
    "data.rename(columns={'fraud_reported': 'label'},inplace=True)\n",
    "data.to_csv('../Data/insurance_claims_predeal.csv', index=False, encoding='utf-8')"
   ]
  },
  {
   "cell_type": "code",
   "execution_count": null,
   "id": "7900ef47",
   "metadata": {
    "hidden": true
   },
   "outputs": [],
   "source": []
  },
  {
   "cell_type": "markdown",
   "id": "5fa86ab4",
   "metadata": {
    "heading_collapsed": true
   },
   "source": [
    "# 数据划分"
   ]
  },
  {
   "cell_type": "code",
   "execution_count": 1,
   "id": "73fdf02b",
   "metadata": {
    "hidden": true
   },
   "outputs": [],
   "source": [
    "import pandas as pd\n",
    "import numpy as np\n",
    "from collections import Counter\n",
    "from sklearn.preprocessing import LabelEncoder,StandardScaler\n",
    "import random"
   ]
  },
  {
   "cell_type": "code",
   "execution_count": 2,
   "id": "f4eb2130",
   "metadata": {
    "hidden": true,
    "scrolled": false
   },
   "outputs": [
    {
     "data": {
      "text/plain": [
       "(1000, 33)"
      ]
     },
     "execution_count": 2,
     "metadata": {},
     "output_type": "execute_result"
    }
   ],
   "source": [
    "data = pd.read_csv('../Data/insurance_claims_predeal.csv')\n",
    "data.shape"
   ]
  },
  {
   "cell_type": "code",
   "execution_count": 3,
   "id": "20da65ab",
   "metadata": {
    "hidden": true,
    "scrolled": true
   },
   "outputs": [
    {
     "data": {
      "text/plain": [
       "Counter({0: 753, 1: 247})"
      ]
     },
     "execution_count": 3,
     "metadata": {},
     "output_type": "execute_result"
    }
   ],
   "source": [
    "Counter(data.label)"
   ]
  },
  {
   "cell_type": "markdown",
   "id": "c524b58b",
   "metadata": {
    "hidden": true
   },
   "source": [
    "**数据集划分**\n",
    "\n",
    "测试集：正样本47 + 负样本148，占比0.195  \n",
    "剩余：正样本200 + 负样本605 【五折交叉验证】   \n",
    "* 验证集：正样本40 + 负样本121 ,占比0.2\n",
    "* 训练集：正样本160 + 负样本484，占比0.8"
   ]
  },
  {
   "cell_type": "code",
   "execution_count": 4,
   "id": "9509b991",
   "metadata": {
    "code_folding": [
     3
    ],
    "hidden": true
   },
   "outputs": [],
   "source": [
    "import numpy as np\n",
    "import random\n",
    "import os\n",
    "def set_seed(seed=42):\n",
    "    seed = int(seed)\n",
    "    np.random.seed(seed)\n",
    "    random.seed(seed)\n",
    "    os.environ['PYTHONHASHSEED'] = str(seed)\n",
    "    np.random.seed(seed)"
   ]
  },
  {
   "cell_type": "code",
   "execution_count": 5,
   "id": "08064432",
   "metadata": {
    "hidden": true
   },
   "outputs": [],
   "source": [
    "set_seed(seed=42)\n",
    "fraud_index = data[data.label == 1].index.tolist()\n",
    "random.shuffle(fraud_index)\n",
    "nofraud_index = data[data.label == 0].index.tolist()\n",
    "random.shuffle(nofraud_index)\n",
    "\n",
    "testmask = fraud_index[:47] + nofraud_index[:148]\n",
    "random.shuffle(testmask)\n",
    "data_test = pd.DataFrame.copy(data.iloc[testmask],deep=True)\n",
    "data_test.index = range(data_test.shape[0])\n",
    "\n",
    "rest_mask = fraud_index[47:]+nofraud_index[148:]\n",
    "random.shuffle(rest_mask)\n",
    "data_rest = pd.DataFrame.copy(data.iloc[rest_mask],deep=True)\n",
    "data_rest.index = range(data_rest.shape[0])"
   ]
  },
  {
   "cell_type": "code",
   "execution_count": 6,
   "id": "190fff26",
   "metadata": {
    "hidden": true
   },
   "outputs": [],
   "source": [
    "data_test.to_csv('../Data/test.csv',index=False,encoding='utf-8')"
   ]
  },
  {
   "cell_type": "code",
   "execution_count": 7,
   "id": "93dab5a6",
   "metadata": {
    "hidden": true
   },
   "outputs": [],
   "source": [
    "data_rest.to_csv('../Data/rest.csv',index=False,encoding='utf-8')"
   ]
  },
  {
   "cell_type": "code",
   "execution_count": 8,
   "id": "4641d0a0",
   "metadata": {
    "hidden": true
   },
   "outputs": [],
   "source": [
    "rest_nofraud_mask = data_rest[data_rest.label == 0].index.tolist()\n",
    "rest_fraud_mask = data_rest[data_rest.label == 1].index.tolist()"
   ]
  },
  {
   "cell_type": "code",
   "execution_count": 9,
   "id": "d49ddae3",
   "metadata": {
    "hidden": true
   },
   "outputs": [
    {
     "name": "stdout",
     "output_type": "stream",
     "text": [
      "0 : Counter({0: 484, 1: 160}) Counter({0: 121, 1: 40})\n",
      "1 : Counter({0: 484, 1: 160}) Counter({0: 121, 1: 40})\n",
      "2 : Counter({0: 484, 1: 160}) Counter({0: 121, 1: 40})\n",
      "3 : Counter({0: 484, 1: 160}) Counter({0: 121, 1: 40})\n",
      "4 : Counter({0: 484, 1: 160}) Counter({0: 121, 1: 40})\n"
     ]
    }
   ],
   "source": [
    "for k in range(5):\n",
    "    validmask = rest_fraud_mask[k*40:(k+1)*40] + rest_nofraud_mask[k*121:(k+1)*121]\n",
    "    trainmask = list(set(rest_fraud_mask+rest_nofraud_mask)-set(validmask))\n",
    "    data_train = pd.DataFrame.copy(data_rest.iloc[trainmask],deep=True)\n",
    "    data_valid = pd.DataFrame.copy(data_rest.iloc[validmask],deep=True)\n",
    "    data_train.index = range(data_train.shape[0])\n",
    "    data_valid.index = range(data_valid.shape[0])\n",
    "    print(k,':',Counter(data_train['label']), Counter(data_valid['label']))\n",
    "    \n",
    "    data_valid.to_csv(f'../Data/valid_{k}.csv',index=False,encoding='utf-8')\n",
    "    data_train.to_csv(f'../Data/train_{k}.csv',index=False,encoding='utf-8')"
   ]
  },
  {
   "cell_type": "code",
   "execution_count": null,
   "id": "800070cf",
   "metadata": {
    "hidden": true
   },
   "outputs": [],
   "source": []
  },
  {
   "cell_type": "code",
   "execution_count": null,
   "id": "415e6ed8",
   "metadata": {
    "hidden": true
   },
   "outputs": [],
   "source": []
  },
  {
   "cell_type": "markdown",
   "id": "0ae94dff",
   "metadata": {
    "heading_collapsed": true
   },
   "source": [
    "# 过采样"
   ]
  },
  {
   "cell_type": "code",
   "execution_count": 1,
   "id": "d7821daa",
   "metadata": {
    "code_folding": [
     7
    ],
    "hidden": true,
    "scrolled": true
   },
   "outputs": [],
   "source": [
    "import pandas as pd\n",
    "from collections import Counter\n",
    "import numpy as np\n",
    "import random\n",
    "import os\n",
    "from ocitgan import OCITGAN\n",
    "\n",
    "def set_seed(seed=42):\n",
    "    seed = int(seed)\n",
    "    np.random.seed(seed)\n",
    "    random.seed(seed)\n",
    "    os.environ['PYTHONHASHSEED'] = str(seed)\n",
    "    np.random.seed(seed)"
   ]
  },
  {
   "cell_type": "code",
   "execution_count": 2,
   "id": "ffbff4f8",
   "metadata": {
    "code_folding": [
     0
    ],
    "hidden": true
   },
   "outputs": [
    {
     "data": {
      "text/plain": [
       "17"
      ]
     },
     "execution_count": 2,
     "metadata": {},
     "output_type": "execute_result"
    }
   ],
   "source": [
    "discrete_columns = [ 'policy_state', 'policy_csl', 'policy_deductable', 'insured_sex',\n",
    "                     'insured_education_level', 'insured_relationship', 'incident_type',\n",
    "                     'collision_type', 'incident_severity', 'authorities_contacted',\n",
    "                     'incident_state', 'incident_city', 'number_of_vehicles_involved',\n",
    "                     'property_damage', 'bodily_injuries', 'witnesses', 'police_report_available']\n",
    "len(discrete_columns)"
   ]
  },
  {
   "cell_type": "code",
   "execution_count": 3,
   "id": "0926ef31",
   "metadata": {
    "hidden": true
   },
   "outputs": [
    {
     "name": "stdout",
     "output_type": "stream",
     "text": [
      "[(0, 605), (1, 200)]\n",
      "(805, 32)\n",
      "Counter({0: 605, 1: 200})\n"
     ]
    }
   ],
   "source": [
    "k = 4\n",
    "data_train = pd.read_csv(f'../Data/train_{k}')\n",
    "\n",
    "trainset_copy = pd.DataFrame.copy(data_train,deep=True)\n",
    "\n",
    "class_dis = dict(Counter(data_train['label']))\n",
    "class_dis = sorted(class_dis.items(), key=lambda x: x[1],reverse = True)\n",
    "labels = np.array(list(data_train['label']))\n",
    "data_train.drop(columns=['label'],inplace=True)\n",
    "\n",
    "print(class_dis)\n",
    "print(data_train.shape)\n",
    "print(Counter(labels))"
   ]
  },
  {
   "cell_type": "code",
   "execution_count": 4,
   "id": "560496e0",
   "metadata": {
    "collapsed": true,
    "hidden": true
   },
   "outputs": [
    {
     "name": "stderr",
     "output_type": "stream",
     "text": [
      "/home/xgwang/anaconda3/envs/Paper1/lib/python3.9/site-packages/torch/cuda/__init__.py:128: UserWarning: CUDA initialization: The NVIDIA driver on your system is too old (found version 11060). Please update your GPU driver by downloading and installing a new version from the URL: http://www.nvidia.com/Download/index.aspx Alternatively, go to: https://pytorch.org to install a PyTorch version that has been compiled with your version of the CUDA driver. (Triggered internally at ../c10/cuda/CUDAFunctions.cpp:108.)\n",
      "  return torch._C._cuda_getDeviceCount() > 0\n",
      "/home/xgwang/anaconda3/envs/Paper1/lib/python3.9/site-packages/rdt/transformers/base.py:132: FutureWarning: Future versions of RDT will not support the 'model_missing_values' parameter. Please switch to using the 'missing_value_generation' parameter to select your strategy.\n",
      "  warnings.warn(\n",
      "/home/xgwang/anaconda3/envs/Paper1/lib/python3.9/site-packages/rdt/transformers/base.py:132: FutureWarning: Future versions of RDT will not support the 'model_missing_values' parameter. Please switch to using the 'missing_value_generation' parameter to select your strategy.\n",
      "  warnings.warn(\n",
      "/home/xgwang/anaconda3/envs/Paper1/lib/python3.9/site-packages/rdt/transformers/base.py:132: FutureWarning: Future versions of RDT will not support the 'model_missing_values' parameter. Please switch to using the 'missing_value_generation' parameter to select your strategy.\n",
      "  warnings.warn(\n",
      "/home/xgwang/anaconda3/envs/Paper1/lib/python3.9/site-packages/rdt/transformers/base.py:132: FutureWarning: Future versions of RDT will not support the 'model_missing_values' parameter. Please switch to using the 'missing_value_generation' parameter to select your strategy.\n",
      "  warnings.warn(\n",
      "/home/xgwang/anaconda3/envs/Paper1/lib/python3.9/site-packages/rdt/transformers/base.py:132: FutureWarning: Future versions of RDT will not support the 'model_missing_values' parameter. Please switch to using the 'missing_value_generation' parameter to select your strategy.\n",
      "  warnings.warn(\n",
      "/home/xgwang/anaconda3/envs/Paper1/lib/python3.9/site-packages/rdt/transformers/base.py:132: FutureWarning: Future versions of RDT will not support the 'model_missing_values' parameter. Please switch to using the 'missing_value_generation' parameter to select your strategy.\n",
      "  warnings.warn(\n",
      "/home/xgwang/anaconda3/envs/Paper1/lib/python3.9/site-packages/rdt/transformers/base.py:132: FutureWarning: Future versions of RDT will not support the 'model_missing_values' parameter. Please switch to using the 'missing_value_generation' parameter to select your strategy.\n",
      "  warnings.warn(\n",
      "/home/xgwang/anaconda3/envs/Paper1/lib/python3.9/site-packages/rdt/transformers/base.py:132: FutureWarning: Future versions of RDT will not support the 'model_missing_values' parameter. Please switch to using the 'missing_value_generation' parameter to select your strategy.\n",
      "  warnings.warn(\n",
      "/home/xgwang/anaconda3/envs/Paper1/lib/python3.9/site-packages/rdt/transformers/base.py:132: FutureWarning: Future versions of RDT will not support the 'model_missing_values' parameter. Please switch to using the 'missing_value_generation' parameter to select your strategy.\n",
      "  warnings.warn(\n",
      "/home/xgwang/anaconda3/envs/Paper1/lib/python3.9/site-packages/rdt/transformers/base.py:132: FutureWarning: Future versions of RDT will not support the 'model_missing_values' parameter. Please switch to using the 'missing_value_generation' parameter to select your strategy.\n",
      "  warnings.warn(\n",
      "/home/xgwang/anaconda3/envs/Paper1/lib/python3.9/site-packages/rdt/transformers/base.py:132: FutureWarning: Future versions of RDT will not support the 'model_missing_values' parameter. Please switch to using the 'missing_value_generation' parameter to select your strategy.\n",
      "  warnings.warn(\n",
      "/home/xgwang/anaconda3/envs/Paper1/lib/python3.9/site-packages/rdt/transformers/base.py:132: FutureWarning: Future versions of RDT will not support the 'model_missing_values' parameter. Please switch to using the 'missing_value_generation' parameter to select your strategy.\n",
      "  warnings.warn(\n",
      "/home/xgwang/anaconda3/envs/Paper1/lib/python3.9/site-packages/rdt/transformers/base.py:132: FutureWarning: Future versions of RDT will not support the 'model_missing_values' parameter. Please switch to using the 'missing_value_generation' parameter to select your strategy.\n",
      "  warnings.warn(\n",
      "/home/xgwang/anaconda3/envs/Paper1/lib/python3.9/site-packages/rdt/transformers/base.py:132: FutureWarning: Future versions of RDT will not support the 'model_missing_values' parameter. Please switch to using the 'missing_value_generation' parameter to select your strategy.\n",
      "  warnings.warn(\n",
      "/home/xgwang/anaconda3/envs/Paper1/lib/python3.9/site-packages/rdt/transformers/base.py:132: FutureWarning: Future versions of RDT will not support the 'model_missing_values' parameter. Please switch to using the 'missing_value_generation' parameter to select your strategy.\n",
      "  warnings.warn(\n",
      "/home/xgwang/anaconda3/envs/Paper1/lib/python3.9/site-packages/torch/nn/_reduction.py:42: UserWarning: size_average and reduce args will be deprecated, please use reduction='mean' instead.\n",
      "  warnings.warn(warning.format(ret))\n"
     ]
    }
   ],
   "source": [
    "set_seed(42)\n",
    "model = OCITGAN(epochs = 1000, embedding_dim=40,\n",
    "                backbone_dim=(50, 50), branch_dim=(50,50), \n",
    "                discriminator_dim=(50, 20), classifier_dim = (50,20),\n",
    "                backbone_lr=0.0001, backbone_decay=1e-2,\n",
    "                branch_lr=0.0001, branch_decay=1e-2,\n",
    "                discriminator_lr=0.0001, discriminator_decay=1e-2,\n",
    "                classifier_lr=0.0001, classifier_decay=1e-2,\n",
    "                discriminator_steps=1, generator_steps=1,\n",
    "                batch_size=256,  pac=1, lambda_=10,\n",
    "                alpha=1,beta=0.1,gamma=0.1 )\n",
    "\n",
    "loss = model.fit(train_data = data_train,\n",
    "                 target = labels,\n",
    "                 discrete_columns = discrete_columns\n",
    "                )"
   ]
  },
  {
   "cell_type": "code",
   "execution_count": 5,
   "id": "4c16f7a1",
   "metadata": {
    "code_folding": [
     0
    ],
    "hidden": true
   },
   "outputs": [],
   "source": [
    "def draw_loss(loss,figsize=(25,7)):\n",
    "    import matplotlib.pyplot as plt\n",
    "    \n",
    "    curves = [loss[key] for key,value in loss.items()]\n",
    "    n_curve = len(curves)\n",
    "    curve_labels = list(loss.keys())\n",
    "    colors = ['red','green','blue','black','chocolate','magenta','lawngreen']\n",
    "    linestyles = ['-','--',':','-','dotted','-','-.']\n",
    "    epoch_list = list(range(len(curves[0])))\n",
    "    plt.figure(figsize=figsize)\n",
    "    for i in range(n_curve):\n",
    "        plt.plot(epoch_list,curves[i],\n",
    "                 label = curve_labels[i],\n",
    "                 color = colors[i],\n",
    "                 linestyle = linestyles[i],\n",
    "                 markersize=6\n",
    "                ) \n",
    "        plt.legend()"
   ]
  },
  {
   "cell_type": "code",
   "execution_count": 6,
   "id": "bda08c7b",
   "metadata": {
    "hidden": true
   },
   "outputs": [],
   "source": [
    "loss['loss_cluster'] = np.array(loss['loss_cluster'])/12\n",
    "loss['loss_pen'] = np.array(loss['loss_pen'])/2"
   ]
  },
  {
   "cell_type": "code",
   "execution_count": 7,
   "id": "7bc5745a",
   "metadata": {
    "hidden": true,
    "scrolled": true
   },
   "outputs": [
    {
     "data": {
      "image/png": "[encoded data removed]",
      "text/plain": [
       "<Figure size 2500x700 with 1 Axes>"
      ]
     },
     "metadata": {},
     "output_type": "display_data"
    }
   ],
   "source": [
    "draw_loss(loss)"
   ]
  },
  {
   "cell_type": "code",
   "execution_count": null,
   "id": "7a1069e9",
   "metadata": {
    "hidden": true
   },
   "outputs": [],
   "source": []
  },
  {
   "cell_type": "markdown",
   "id": "d4010e13",
   "metadata": {
    "hidden": true
   },
   "source": [
    "**存储**"
   ]
  },
  {
   "cell_type": "code",
   "execution_count": 9,
   "id": "1da08149",
   "metadata": {
    "hidden": true,
    "scrolled": true
   },
   "outputs": [
    {
     "data": {
      "text/plain": [
       "(Counter({0: 605, 1: 605}), 4)"
      ]
     },
     "execution_count": 9,
     "metadata": {},
     "output_type": "execute_result"
    }
   ],
   "source": [
    "set_seed(42)\n",
    "minority_dict = {i:class_dis[0][1]-j for i,j in class_dis[1:]}\n",
    "output_minority = model.synthesis(minority_dict)\n",
    "\n",
    "for key,value in output_minority.items():\n",
    "    value['label'] = key\n",
    "\n",
    "os_trainset = pd.concat([trainset_copy] + list(output_minority.values()),axis=0).sample(frac=1).reset_index(drop=True)\n",
    "Counter(os_trainset['label']), k"
   ]
  },
  {
   "cell_type": "code",
   "execution_count": null,
   "id": "fb6ead79",
   "metadata": {
    "hidden": true
   },
   "outputs": [],
   "source": []
  },
  {
   "cell_type": "code",
   "execution_count": 9,
   "id": "a1d80077",
   "metadata": {
    "hidden": true
   },
   "outputs": [],
   "source": [
    "os_trainset.to_csv(f'../Data/train_bala_{k}.csv',index=False,encoding='utf-8')"
   ]
  },
  {
   "cell_type": "code",
   "execution_count": null,
   "id": "86538764",
   "metadata": {
    "hidden": true
   },
   "outputs": [],
   "source": []
  },
  {
   "cell_type": "markdown",
   "id": "371e7552",
   "metadata": {
    "heading_collapsed": true
   },
   "source": [
    "# 网格调参"
   ]
  },
  {
   "cell_type": "code",
   "execution_count": 2,
   "id": "7a502bce",
   "metadata": {
    "hidden": true
   },
   "outputs": [],
   "source": [
    "from imblearn.over_sampling import ADASYN,SMOTE\n",
    "from sdv.tabular import CTGAN\n",
    "from xgboost.sklearn import XGBClassifier\n",
    "from sdv.sampling import Condition\n",
    "import numpy as np\n",
    "import pandas as pd\n",
    "from collections import Counter\n",
    "from sklearn.preprocessing import StandardScaler"
   ]
  },
  {
   "cell_type": "code",
   "execution_count": 3,
   "id": "68432cbf",
   "metadata": {
    "code_folding": [
     3
    ],
    "hidden": true
   },
   "outputs": [],
   "source": [
    "import os\n",
    "import random\n",
    "\n",
    "def set_seed(seed=42):\n",
    "    seed = int(seed)\n",
    "    np.random.seed(seed)\n",
    "    random.seed(seed)\n",
    "    os.environ['PYTHONHASHSEED'] = str(seed)\n",
    "    np.random.seed(seed)"
   ]
  },
  {
   "cell_type": "code",
   "execution_count": 4,
   "id": "97395a44",
   "metadata": {
    "code_folding": [
     0
    ],
    "hidden": true
   },
   "outputs": [],
   "source": [
    "def evaluate(clf,X_train,Y_train,X_test,Y_test):\n",
    "    from sklearn.metrics import accuracy_score,precision_score,recall_score,f1_score,roc_auc_score\n",
    "    evaluate_dict = {}\n",
    "    def GM(y_true,y_pred):\n",
    "        import numpy as np\n",
    "        recall = (y_pred[y_true==1]==1).mean()\n",
    "        tnr = (y_pred[y_true==0]==0).mean()\n",
    "        return np.sqrt(recall*tnr)\n",
    "    \n",
    "    clf.fit(X_train,Y_train)\n",
    "    y_pred = clf.predict(X_test)\n",
    "    y_proba = clf.predict_proba(X_test)[:,1]\n",
    "    \n",
    "    evaluate_dict['AUC'] = roc_auc_score(Y_test,y_proba)\n",
    "    evaluate_dict['Recall'] = recall_score(Y_test,y_pred,average='binary',pos_label=1)\n",
    "    evaluate_dict['F1'] = f1_score(Y_test,y_pred,average='binary',pos_label=1)\n",
    "    evaluate_dict['GM'] = GM(Y_test,y_pred)\n",
    "    \n",
    "    return evaluate_dict"
   ]
  },
  {
   "cell_type": "code",
   "execution_count": 5,
   "id": "cb22b28a",
   "metadata": {
    "code_folding": [
     0
    ],
    "hidden": true
   },
   "outputs": [],
   "source": [
    "def train_valid(clf, osmethod, Normlization=True):\n",
    "    metrics = []\n",
    "    for k in range(5):\n",
    "        if osmethod != 'FDGAN':\n",
    "            data_train = pd.read_csv(f'../Data/train_{k}.csv')\n",
    "        elif osmethod == 'FDGAN':\n",
    "            data_train = pd.read_csv(f'../Data/train_bala_{k}.csv')\n",
    "        \n",
    "        if osmethod =='ADASYN':\n",
    "            X_train = data_train.values[:,:-1]\n",
    "            Y_train = data_train.values[:,-1]\n",
    "            adasyn = ADASYN(n_jobs=-1,random_state = 42,sampling_strategy=1.0)\n",
    "            new_Xtrain, new_Ytrain = adasyn.fit_resample(X_train, Y_train)\n",
    "        elif osmethod =='SMOTE':\n",
    "            X_train = data_train.values[:,:-1]\n",
    "            Y_train = data_train.values[:,-1]\n",
    "            smote = SMOTE(n_jobs=-1,random_state = 42,sampling_strategy=1.0)\n",
    "            new_Xtrain, new_Ytrain = smote.fit_resample(X_train, Y_train)\n",
    "        elif osmethod =='CTGAN':\n",
    "            label_dict = Counter(data_train['label'])\n",
    "            num_rows = label_dict[0]-label_dict[1]\n",
    "            learn_df = data_train[data_train['label']==1]\n",
    "            ctgan = CTGAN()\n",
    "            ctgan.fit(learn_df)\n",
    "            condition = Condition({ 'label': 1}, num_rows)\n",
    "            df = ctgan.sample_conditions(conditions=[condition])\n",
    "            new_data_train = pd.concat([data_train,df],axis=0)\n",
    "            new_Xtrain, new_Ytrain = new_data_train.values[:,:-1], new_data_train.values[:,-1]\n",
    "        elif osmethod == 'FDGAN':\n",
    "            new_Xtrain,new_Ytrain = data_train.values[:,:-1], data_train.values[:,-1]\n",
    "        \n",
    "        index = np.arange(new_Xtrain.shape[0])\n",
    "        random.seed(42)\n",
    "        random.shuffle(index)\n",
    "        new_Xtrain = new_Xtrain[index]\n",
    "        new_Ytrain = new_Ytrain[index]\n",
    "\n",
    "        data_valid = pd.read_csv(f'../Data/valid_{k}.csv')\n",
    "        X_valid, Y_valid = data_valid.values[:,:-1], data_valid.values[:,-1]\n",
    "\n",
    "        if Normlization:\n",
    "            new_Xtrain = StandardScaler().fit_transform(new_Xtrain)\n",
    "            X_valid = StandardScaler().fit_transform(X_valid)\n",
    "\n",
    "        evaluate_dict = evaluate(clf,new_Xtrain,new_Ytrain,X_valid,Y_valid)\n",
    "        metrics.append(list(evaluate_dict.values()))\n",
    "    return metrics"
   ]
  },
  {
   "cell_type": "code",
   "execution_count": 6,
   "id": "f262fa4c",
   "metadata": {
    "collapsed": true,
    "hidden": true
   },
   "outputs": [
    {
     "name": "stderr",
     "output_type": "stream",
     "text": [
      "/home/xgwang/anaconda3/envs/DL39/lib/python3.9/site-packages/xgboost/sklearn.py:1224: UserWarning: The use of label encoder in XGBClassifier is deprecated and will be removed in a future release. To remove this warning, do the following: 1) Pass option use_label_encoder=False when constructing XGBClassifier object; and 2) Encode your labels (y) as integers starting with 0, i.e. 0, 1, 2, ..., [num_class - 1].\n",
      "  warnings.warn(label_encoder_deprecation_msg, UserWarning)\n"
     ]
    },
    {
     "name": "stdout",
     "output_type": "stream",
     "text": [
      "[16:44:23] WARNING: /tmp/abs_40obctay9q/croots/recipe/xgboost-split_1659548945886/work/src/learner.cc:1115: Starting in XGBoost 1.3.0, the default evaluation metric used with the objective 'binary:logistic' was changed from 'error' to 'logloss'. Explicitly set eval_metric if you'd like to restore the old behavior.\n"
     ]
    },
    {
     "name": "stderr",
     "output_type": "stream",
     "text": [
      "/home/xgwang/anaconda3/envs/DL39/lib/python3.9/site-packages/xgboost/sklearn.py:1224: UserWarning: The use of label encoder in XGBClassifier is deprecated and will be removed in a future release. To remove this warning, do the following: 1) Pass option use_label_encoder=False when constructing XGBClassifier object; and 2) Encode your labels (y) as integers starting with 0, i.e. 0, 1, 2, ..., [num_class - 1].\n",
      "  warnings.warn(label_encoder_deprecation_msg, UserWarning)\n"
     ]
    },
    {
     "name": "stdout",
     "output_type": "stream",
     "text": [
      "[16:44:24] WARNING: /tmp/abs_40obctay9q/croots/recipe/xgboost-split_1659548945886/work/src/learner.cc:1115: Starting in XGBoost 1.3.0, the default evaluation metric used with the objective 'binary:logistic' was changed from 'error' to 'logloss'. Explicitly set eval_metric if you'd like to restore the old behavior.\n"
     ]
    },
    {
     "name": "stderr",
     "output_type": "stream",
     "text": [
      "/home/xgwang/anaconda3/envs/DL39/lib/python3.9/site-packages/xgboost/sklearn.py:1224: UserWarning: The use of label encoder in XGBClassifier is deprecated and will be removed in a future release. To remove this warning, do the following: 1) Pass option use_label_encoder=False when constructing XGBClassifier object; and 2) Encode your labels (y) as integers starting with 0, i.e. 0, 1, 2, ..., [num_class - 1].\n",
      "  warnings.warn(label_encoder_deprecation_msg, UserWarning)\n"
     ]
    },
    {
     "name": "stdout",
     "output_type": "stream",
     "text": [
      "[16:44:26] WARNING: /tmp/abs_40obctay9q/croots/recipe/xgboost-split_1659548945886/work/src/learner.cc:1115: Starting in XGBoost 1.3.0, the default evaluation metric used with the objective 'binary:logistic' was changed from 'error' to 'logloss'. Explicitly set eval_metric if you'd like to restore the old behavior.\n"
     ]
    },
    {
     "name": "stderr",
     "output_type": "stream",
     "text": [
      "/home/xgwang/anaconda3/envs/DL39/lib/python3.9/site-packages/xgboost/sklearn.py:1224: UserWarning: The use of label encoder in XGBClassifier is deprecated and will be removed in a future release. To remove this warning, do the following: 1) Pass option use_label_encoder=False when constructing XGBClassifier object; and 2) Encode your labels (y) as integers starting with 0, i.e. 0, 1, 2, ..., [num_class - 1].\n",
      "  warnings.warn(label_encoder_deprecation_msg, UserWarning)\n"
     ]
    },
    {
     "name": "stdout",
     "output_type": "stream",
     "text": [
      "[16:44:27] WARNING: /tmp/abs_40obctay9q/croots/recipe/xgboost-split_1659548945886/work/src/learner.cc:1115: Starting in XGBoost 1.3.0, the default evaluation metric used with the objective 'binary:logistic' was changed from 'error' to 'logloss'. Explicitly set eval_metric if you'd like to restore the old behavior.\n"
     ]
    },
    {
     "name": "stderr",
     "output_type": "stream",
     "text": [
      "/home/xgwang/anaconda3/envs/DL39/lib/python3.9/site-packages/xgboost/sklearn.py:1224: UserWarning: The use of label encoder in XGBClassifier is deprecated and will be removed in a future release. To remove this warning, do the following: 1) Pass option use_label_encoder=False when constructing XGBClassifier object; and 2) Encode your labels (y) as integers starting with 0, i.e. 0, 1, 2, ..., [num_class - 1].\n",
      "  warnings.warn(label_encoder_deprecation_msg, UserWarning)\n"
     ]
    },
    {
     "name": "stdout",
     "output_type": "stream",
     "text": [
      "[16:44:28] WARNING: /tmp/abs_40obctay9q/croots/recipe/xgboost-split_1659548945886/work/src/learner.cc:1115: Starting in XGBoost 1.3.0, the default evaluation metric used with the objective 'binary:logistic' was changed from 'error' to 'logloss'. Explicitly set eval_metric if you'd like to restore the old behavior.\n"
     ]
    }
   ],
   "source": [
    "set_seed(seed=42)\n",
    "best_score = 0\n",
    "for n_estimators in [200]:\n",
    "    for max_depth in [7]:\n",
    "        for learning_rate in [0.04]:\n",
    "            clf=XGBClassifier(n_estimators=n_estimators,\n",
    "                              max_depth = max_depth,\n",
    "                              learning_rate = learning_rate\n",
    "                              ) \n",
    "            metrics = train_valid(clf, osmethod ='FDGAN', Normlization=True)\n",
    "            data_metrics = pd.DataFrame(metrics,columns=['AUC','Recall','F1','GM'])\n",
    "            score = data_metrics.AUC.mean()\n",
    "            if score > best_score:\n",
    "                best_score = score\n",
    "                best_parameters={'n_estimators':n_estimators,\n",
    "                                 'max_depth':max_depth,\n",
    "                                 'learning_rate':learning_rate}"
   ]
  },
  {
   "cell_type": "code",
   "execution_count": 7,
   "id": "731a1167",
   "metadata": {
    "hidden": true,
    "scrolled": false
   },
   "outputs": [
    {
     "data": {
      "text/plain": [
       "{'n_estimators': 200, 'max_depth': 7, 'learning_rate': 0.04}"
      ]
     },
     "execution_count": 7,
     "metadata": {},
     "output_type": "execute_result"
    }
   ],
   "source": [
    "best_parameters"
   ]
  },
  {
   "cell_type": "code",
   "execution_count": null,
   "id": "fea17bec",
   "metadata": {
    "hidden": true
   },
   "outputs": [],
   "source": []
  },
  {
   "cell_type": "markdown",
   "id": "5fb7ab5c",
   "metadata": {},
   "source": [
    "# 测试"
   ]
  },
  {
   "cell_type": "code",
   "execution_count": 1,
   "id": "131fd8f3",
   "metadata": {},
   "outputs": [
    {
     "name": "stderr",
     "output_type": "stream",
     "text": [
      "/home/xgwang/anaconda3/envs/DL39/lib/python3.9/site-packages/tqdm/auto.py:22: TqdmWarning: IProgress not found. Please update jupyter and ipywidgets. See https://ipywidgets.readthedocs.io/en/stable/user_install.html\n",
      "  from .autonotebook import tqdm as notebook_tqdm\n"
     ]
    }
   ],
   "source": [
    "from imblearn.over_sampling import ADASYN,SMOTE\n",
    "from sdv.tabular import CTGAN\n",
    "from sdv.sampling import Condition\n",
    "from sklearn.preprocessing import StandardScaler\n",
    "from xgboost.sklearn import XGBClassifier\n",
    "from collections import Counter\n",
    "\n",
    "import torch\n",
    "import torch.nn as nn\n",
    "import os\n",
    "import random\n",
    "import numpy as np\n",
    "import pandas as pd"
   ]
  },
  {
   "cell_type": "code",
   "execution_count": 2,
   "id": "e3d8c5d2",
   "metadata": {
    "code_folding": [
     6
    ]
   },
   "outputs": [],
   "source": [
    "def set_seed(seed=42):\n",
    "    seed = int(seed)\n",
    "    np.random.seed(seed)\n",
    "    random.seed(seed)\n",
    "    os.environ['PYTHONHASHSEED'] = str(seed)\n",
    "    np.random.seed(seed)\n",
    "    torch.manual_seed(seed)\n",
    "    torch.cuda.manual_seed(seed)\n",
    "    torch.cuda.manual_seed_all(seed)\n",
    "    torch.backends.cudnn.deterministic = True\n",
    "    torch.backends.cudnn.benchmark = False\n",
    "    torch.backends.cudnn.enabled = True"
   ]
  },
  {
   "cell_type": "code",
   "execution_count": 3,
   "id": "f36703c6",
   "metadata": {
    "code_folding": [
     0
    ]
   },
   "outputs": [],
   "source": [
    "def evaluate(clf,X_train,Y_train,X_test,Y_test):\n",
    "    from sklearn.metrics import accuracy_score,precision_score,recall_score,f1_score,roc_auc_score\n",
    "    evaluate_dict = {}\n",
    "    def GM(y_true,y_pred):\n",
    "        import numpy as np\n",
    "        recall = (y_pred[y_true==1]==1).mean()\n",
    "        tnr = (y_pred[y_true==0]==0).mean()\n",
    "        return np.sqrt(recall*tnr)\n",
    "    \n",
    "    clf.fit(X_train,Y_train)\n",
    "    y_pred = clf.predict(X_test)\n",
    "    y_proba = clf.predict_proba(X_test)[:,1]\n",
    "    \n",
    "    #evaluate_dict['Accuracy'] = accuracy_score(Y_test,y_pred)\n",
    "    evaluate_dict['AUC'] = roc_auc_score(Y_test,y_proba)\n",
    "    evaluate_dict['Recall'] = recall_score(Y_test,y_pred,average='binary',pos_label=1)\n",
    "    evaluate_dict['F1'] = f1_score(Y_test,y_pred,average='binary',pos_label=1)\n",
    "    evaluate_dict['GM'] = GM(Y_test,y_pred)\n",
    "    #evaluate_dict['FPR'] = (y_pred[Y_test==0]==1).mean()\n",
    "    #evaluate_dict['TNR'] = (y_pred[Y_test==0]==0).mean()\n",
    "    \n",
    "    return evaluate_dict"
   ]
  },
  {
   "cell_type": "code",
   "execution_count": 4,
   "id": "e1564526",
   "metadata": {
    "code_folding": [
     0
    ]
   },
   "outputs": [],
   "source": [
    "def test(clf,osmethod='FDGAN',Normlization=True):\n",
    "    if osmethod != 'FDGAN':\n",
    "        data_rest = pd.read_csv('../Data/rest.csv')\n",
    "    elif osmethod == 'FDGAN':\n",
    "        data_rest = pd.read_csv('../Data/rest_bala.csv')\n",
    "    \n",
    "    if osmethod =='ADASYN':\n",
    "        X_train = data_rest.values[:,:-1]\n",
    "        Y_train = data_rest.values[:,-1]\n",
    "        adasyn = ADASYN(n_jobs=-1,random_state = 42,sampling_strategy=1.0)\n",
    "        new_Xtrain, new_Ytrain = adasyn.fit_resample(X_train, Y_train)\n",
    "    elif osmethod =='SMOTE':\n",
    "        X_train = data_rest.values[:,:-1]\n",
    "        Y_train = data_rest.values[:,-1]\n",
    "        smote = SMOTE(n_jobs=-1,random_state = 42,sampling_strategy=1.0)\n",
    "        new_Xtrain, new_Ytrain = smote.fit_resample(X_train, Y_train)\n",
    "    elif osmethod =='CTGAN':\n",
    "        label_dict = Counter(data_rest['label'])\n",
    "        num_rows = label_dict[0]-label_dict[1]\n",
    "        learn_df = data_rest[data_rest['label']==1]\n",
    "        ctgan = CTGAN()\n",
    "        ctgan.fit(learn_df)\n",
    "        condition = Condition({ 'label': 1}, num_rows)\n",
    "        df = ctgan.sample_conditions(conditions=[condition])\n",
    "        new_data_rest = pd.concat([data_rest,df],axis=0)\n",
    "        new_Xtrain, new_Ytrain = new_data_rest.values[:,:-1], new_data_rest.values[:,-1]\n",
    "    elif osmethod == 'FDGAN':\n",
    "        new_Xtrain,new_Ytrain = data_rest.values[:,:-1], data_rest.values[:,-1]\n",
    "    \n",
    "    index = np.arange(new_Xtrain.shape[0])\n",
    "    random.seed(42)\n",
    "    random.shuffle(index)\n",
    "    new_Xtrain = new_Xtrain[index]\n",
    "    new_Ytrain = new_Ytrain[index]\n",
    "    \n",
    "    data_test = pd.read_csv('../Data/test.csv')\n",
    "    X_test = data_test.values[:,:-1]\n",
    "    Y_test = data_test.values[:,-1]\n",
    "    \n",
    "    if Normlization:\n",
    "        new_Xtrain = StandardScaler().fit_transform(new_Xtrain)\n",
    "        X_test = StandardScaler().fit_transform(X_test)\n",
    "    \n",
    "    evaluate_dict = evaluate(clf,new_Xtrain,new_Ytrain,X_test,Y_test)\n",
    "    return evaluate_dict"
   ]
  },
  {
   "cell_type": "code",
   "execution_count": 5,
   "id": "eddfcf6b",
   "metadata": {
    "collapsed": true
   },
   "outputs": [
    {
     "name": "stderr",
     "output_type": "stream",
     "text": [
      "/home/xgwang/anaconda3/envs/DL39/lib/python3.9/site-packages/xgboost/sklearn.py:1224: UserWarning: The use of label encoder in XGBClassifier is deprecated and will be removed in a future release. To remove this warning, do the following: 1) Pass option use_label_encoder=False when constructing XGBClassifier object; and 2) Encode your labels (y) as integers starting with 0, i.e. 0, 1, 2, ..., [num_class - 1].\n",
      "  warnings.warn(label_encoder_deprecation_msg, UserWarning)\n"
     ]
    },
    {
     "name": "stdout",
     "output_type": "stream",
     "text": [
      "[11:05:37] WARNING: /tmp/abs_40obctay9q/croots/recipe/xgboost-split_1659548945886/work/src/learner.cc:1115: Starting in XGBoost 1.3.0, the default evaluation metric used with the objective 'binary:logistic' was changed from 'error' to 'logloss'. Explicitly set eval_metric if you'd like to restore the old behavior.\n"
     ]
    }
   ],
   "source": [
    "set_seed(seed=42)\n",
    "clf = XGBClassifier(n_estimators=200,max_depth = 7, learning_rate=0.04, random_state=42)\n",
    "\n",
    "evaluate_dict = test(clf,osmethod='FDGAN',Normlization=False)"
   ]
  },
  {
   "cell_type": "code",
   "execution_count": 6,
   "id": "a3b9a1c6",
   "metadata": {},
   "outputs": [
    {
     "data": {
      "text/plain": [
       "{'AUC': 0.8786658999424958,\n",
       " 'Recall': 0.7446808510638298,\n",
       " 'F1': 0.7368421052631579,\n",
       " 'GM': 0.8241781938556382}"
      ]
     },
     "execution_count": 6,
     "metadata": {},
     "output_type": "execute_result"
    }
   ],
   "source": [
    "evaluate_dict"
   ]
  },
  {
   "cell_type": "code",
   "execution_count": null,
   "id": "ec8e915d",
   "metadata": {},
   "outputs": [],
   "source": []
  },
  {
   "cell_type": "code",
   "execution_count": null,
   "id": "b15179b2",
   "metadata": {},
   "outputs": [],
   "source": []
  },
  {
   "cell_type": "code",
   "execution_count": null,
   "id": "dea285bd",
   "metadata": {},
   "outputs": [],
   "source": []
  },
  {
   "cell_type": "code",
   "execution_count": null,
   "id": "309b34bf",
   "metadata": {},
   "outputs": [],
   "source": []
  },
  {
   "cell_type": "code",
   "execution_count": null,
   "id": "ca9ba305",
   "metadata": {},
   "outputs": [],
   "source": []
  }
 ],
 "metadata": {
  "kernelspec": {
   "display_name": "DL39",
   "language": "python",
   "name": "dl39"
  },
  "language_info": {
   "codemirror_mode": {
    "name": "ipython",
    "version": 3
   },
   "file_extension": ".py",
   "mimetype": "text/x-python",
   "name": "python",
   "nbconvert_exporter": "python",
   "pygments_lexer": "ipython3",
   "version": "3.9.7"
  },
  "toc": {
   "base_numbering": 1,
   "nav_menu": {},
   "number_sections": true,
   "sideBar": true,
   "skip_h1_title": false,
   "title_cell": "Table of Contents",
   "title_sidebar": "Contents",
   "toc_cell": false,
   "toc_position": {},
   "toc_section_display": true,
   "toc_window_display": false
  }
 },
 "nbformat": 4,
 "nbformat_minor": 5
}
